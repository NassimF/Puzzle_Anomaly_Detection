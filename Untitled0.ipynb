{
  "nbformat": 4,
  "nbformat_minor": 0,
  "metadata": {
    "colab": {
      "name": "Untitled0.ipynb",
      "provenance": [],
      "collapsed_sections": [],
      "authorship_tag": "ABX9TyNWCXglcztWeDLDXjkVrhMs",
      "include_colab_link": true
    },
    "kernelspec": {
      "name": "python3",
      "display_name": "Python 3"
    },
    "language_info": {
      "name": "python"
    },
    "accelerator": "GPU"
  },
  "cells": [
    {
      "cell_type": "markdown",
      "metadata": {
        "id": "view-in-github",
        "colab_type": "text"
      },
      "source": [
        "<a href=\"https://colab.research.google.com/github/NassimF/Puzzle_Anomaly_Detection/blob/main/Untitled0.ipynb\" target=\"_parent\"><img src=\"https://colab.research.google.com/assets/colab-badge.svg\" alt=\"Open In Colab\"/></a>"
      ]
    },
    {
      "cell_type": "code",
      "metadata": {
        "id": "KcNXWT4aABt-",
        "colab": {
          "base_uri": "https://localhost:8080/"
        },
        "outputId": "4ed25b1d-11e6-41c5-db6f-73ac7ae17625"
      },
      "source": [
        "!git clone https://github.com/NassimF/Puzzle_Anomaly_Detection.git\n",
        "\n"
      ],
      "execution_count": 2,
      "outputs": [
        {
          "output_type": "stream",
          "text": [
            "Cloning into 'Puzzle_Anomaly_Detection'...\n",
            "remote: Enumerating objects: 58, done.\u001b[K\n",
            "remote: Counting objects: 100% (58/58), done.\u001b[K\n",
            "remote: Compressing objects: 100% (37/37), done.\u001b[K\n",
            "remote: Total 58 (delta 24), reused 41 (delta 14), pack-reused 0\u001b[K\n",
            "Unpacking objects: 100% (58/58), done.\n"
          ],
          "name": "stdout"
        }
      ]
    },
    {
      "cell_type": "code",
      "metadata": {
        "colab": {
          "base_uri": "https://localhost:8080/"
        },
        "id": "oSz4p-8xDosJ",
        "outputId": "ba595492-c272-4d78-c725-12f1c3493a3d"
      },
      "source": [
        "%cd /content/Puzzle_Anomaly_Detection\n"
      ],
      "execution_count": 3,
      "outputs": [
        {
          "output_type": "stream",
          "text": [
            "/content/Puzzle_Anomaly_Detection\n"
          ],
          "name": "stdout"
        }
      ]
    },
    {
      "cell_type": "code",
      "metadata": {
        "colab": {
          "base_uri": "https://localhost:8080/"
        },
        "id": "2Cx_jwBXEz4-",
        "outputId": "f67dcb49-17d2-42c9-a61d-544a60dd1f15"
      },
      "source": [
        "!python train.py --config configs/config_train.yaml"
      ],
      "execution_count": null,
      "outputs": [
        {
          "output_type": "stream",
          "text": [
            "Downloading http://yann.lecun.com/exdb/mnist/train-images-idx3-ubyte.gz\n",
            "Downloading http://yann.lecun.com/exdb/mnist/train-images-idx3-ubyte.gz to ./Dataset/MNIST/train/MNIST/raw/train-images-idx3-ubyte.gz\n",
            "9913344it [04:42, 35044.76it/s]\n",
            "Extracting ./Dataset/MNIST/train/MNIST/raw/train-images-idx3-ubyte.gz to ./Dataset/MNIST/train/MNIST/raw\n",
            "\n",
            "Downloading http://yann.lecun.com/exdb/mnist/train-labels-idx1-ubyte.gz\n",
            "Downloading http://yann.lecun.com/exdb/mnist/train-labels-idx1-ubyte.gz to ./Dataset/MNIST/train/MNIST/raw/train-labels-idx1-ubyte.gz\n",
            "29696it [00:00, 442239.32it/s]\n",
            "Extracting ./Dataset/MNIST/train/MNIST/raw/train-labels-idx1-ubyte.gz to ./Dataset/MNIST/train/MNIST/raw\n",
            "\n",
            "Downloading http://yann.lecun.com/exdb/mnist/t10k-images-idx3-ubyte.gz\n",
            "Downloading http://yann.lecun.com/exdb/mnist/t10k-images-idx3-ubyte.gz to ./Dataset/MNIST/train/MNIST/raw/t10k-images-idx3-ubyte.gz\n",
            "1649664it [00:44, 36948.23it/s]                 \n",
            "Extracting ./Dataset/MNIST/train/MNIST/raw/t10k-images-idx3-ubyte.gz to ./Dataset/MNIST/train/MNIST/raw\n",
            "\n",
            "Downloading http://yann.lecun.com/exdb/mnist/t10k-labels-idx1-ubyte.gz\n",
            "Downloading http://yann.lecun.com/exdb/mnist/t10k-labels-idx1-ubyte.gz to ./Dataset/MNIST/train/MNIST/raw/t10k-labels-idx1-ubyte.gz\n",
            "5120it [00:00, 27356479.59it/s]\n",
            "Extracting ./Dataset/MNIST/train/MNIST/raw/t10k-labels-idx1-ubyte.gz to ./Dataset/MNIST/train/MNIST/raw\n",
            "\n",
            "/usr/local/lib/python3.7/dist-packages/torchvision/datasets/mnist.py:498: UserWarning: The given NumPy array is not writeable, and PyTorch does not support non-writeable tensors. This means you can write to the underlying (supposedly non-writeable) NumPy array using the tensor. You may want to copy the array to protect its data or make it writeable before converting it to a tensor. This type of warning will be suppressed for the rest of this program. (Triggered internally at  /pytorch/torch/csrc/utils/tensor_numpy.cpp:180.)\n",
            "  return torch.from_numpy(parsed.astype(m[2], copy=False)).view(*s)\n",
            "Downloading http://yann.lecun.com/exdb/mnist/train-images-idx3-ubyte.gz\n",
            "Downloading http://yann.lecun.com/exdb/mnist/train-images-idx3-ubyte.gz to ./Dataset/MNIST/test/MNIST/raw/train-images-idx3-ubyte.gz\n",
            "9913344it [04:14, 38877.03it/s]\n",
            "Extracting ./Dataset/MNIST/test/MNIST/raw/train-images-idx3-ubyte.gz to ./Dataset/MNIST/test/MNIST/raw\n",
            "\n",
            "Downloading http://yann.lecun.com/exdb/mnist/train-labels-idx1-ubyte.gz\n",
            "Downloading http://yann.lecun.com/exdb/mnist/train-labels-idx1-ubyte.gz to ./Dataset/MNIST/test/MNIST/raw/train-labels-idx1-ubyte.gz\n",
            "29696it [00:00, 481158.19it/s]\n",
            "Extracting ./Dataset/MNIST/test/MNIST/raw/train-labels-idx1-ubyte.gz to ./Dataset/MNIST/test/MNIST/raw\n",
            "\n",
            "Downloading http://yann.lecun.com/exdb/mnist/t10k-images-idx3-ubyte.gz\n",
            "Downloading http://yann.lecun.com/exdb/mnist/t10k-images-idx3-ubyte.gz to ./Dataset/MNIST/test/MNIST/raw/t10k-images-idx3-ubyte.gz\n",
            "1649664it [00:44, 36984.77it/s]                 \n",
            "Extracting ./Dataset/MNIST/test/MNIST/raw/t10k-images-idx3-ubyte.gz to ./Dataset/MNIST/test/MNIST/raw\n",
            "\n",
            "Downloading http://yann.lecun.com/exdb/mnist/t10k-labels-idx1-ubyte.gz\n",
            "Downloading http://yann.lecun.com/exdb/mnist/t10k-labels-idx1-ubyte.gz to ./Dataset/MNIST/test/MNIST/raw/t10k-labels-idx1-ubyte.gz\n",
            "5120it [00:00, 30288909.00it/s]\n",
            "Extracting ./Dataset/MNIST/test/MNIST/raw/t10k-labels-idx1-ubyte.gz to ./Dataset/MNIST/test/MNIST/raw\n",
            "\n",
            "/usr/local/lib/python3.7/dist-packages/torch/nn/functional.py:718: UserWarning: Named tensors and all their associated APIs are an experimental feature and subject to change. Please do not use them for anything important until they are released as stable. (Triggered internally at  /pytorch/c10/core/TensorImpl.h:1156.)\n",
            "  return torch.max_pool2d(input, kernel_size, stride, padding, dilation, ceil_mode)\n",
            "epoch [1/600], epoch_total_loss:8.2647, epoch_ae_loss:7.1718, err_adv:0.6648\n",
            "/content/Puzzle_Anomaly_Detection/utils/utils.py:70: MatplotlibDeprecationWarning: Adding an axes using the same arguments as a previous axes currently reuses the earlier instance.  In a future version, a new instance will always be created and returned.  Meanwhile, this warning can be suppressed, and the future behavior ensured, by passing a unique label to each axes instance.\n",
            "  plt.subplot(rows, cols, i + 1)\n",
            "epoch [2/600], epoch_total_loss:5.4238, epoch_ae_loss:4.4138, err_adv:0.5986\n",
            "epoch [3/600], epoch_total_loss:5.0038, epoch_ae_loss:4.0401, err_adv:0.7125\n",
            "epoch [4/600], epoch_total_loss:4.8640, epoch_ae_loss:3.8815, err_adv:0.7527\n",
            "epoch [5/600], epoch_total_loss:4.9443, epoch_ae_loss:3.8809, err_adv:0.7843\n",
            "epoch [6/600], epoch_total_loss:5.0353, epoch_ae_loss:3.9119, err_adv:0.4535\n",
            "epoch [7/600], epoch_total_loss:4.3894, epoch_ae_loss:3.7807, err_adv:0.4295\n",
            "epoch [8/600], epoch_total_loss:4.3737, epoch_ae_loss:3.6380, err_adv:0.4573\n",
            "epoch [9/600], epoch_total_loss:4.4798, epoch_ae_loss:3.6770, err_adv:0.5412\n"
          ],
          "name": "stdout"
        }
      ]
    }
  ]
}